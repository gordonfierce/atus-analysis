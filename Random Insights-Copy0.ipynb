{
 "metadata": {
  "name": "",
  "signature": "sha256:5189c520f58d25a9523f42a949dcb09d838767a9de3254863a0b85e0152417a1"
 },
 "nbformat": 3,
 "nbformat_minor": 0,
 "worksheets": [
  {
   "cells": [
    {
     "cell_type": "code",
     "collapsed": false,
     "input": [
      "import matplotlib. pyplot as plt\n",
      "import re\n",
      "import pandas as pd\n",
      "import random as random\n",
      "import seaborn as sns\n",
      "plt.rc('figure', figsize=(15, 6))"
     ],
     "language": "python",
     "metadata": {},
     "outputs": [],
     "prompt_number": 4
    },
    {
     "cell_type": "code",
     "collapsed": false,
     "input": [
      "%matplotlib inline"
     ],
     "language": "python",
     "metadata": {},
     "outputs": [],
     "prompt_number": 5
    },
    {
     "cell_type": "code",
     "collapsed": false,
     "input": [
      "summary = pd.read_csv(\"atusdata/atussum_2013/atussum_2013.dat\")\n",
      "summary.head()"
     ],
     "language": "python",
     "metadata": {},
     "outputs": [
      {
       "html": [
        "<div style=\"max-height:1000px;max-width:1500px;overflow:auto;\">\n",
        "<table border=\"1\" class=\"dataframe\">\n",
        "  <thead>\n",
        "    <tr style=\"text-align: right;\">\n",
        "      <th></th>\n",
        "      <th>tucaseid</th>\n",
        "      <th>TUFINLWGT</th>\n",
        "      <th>TRYHHCHILD</th>\n",
        "      <th>TEAGE</th>\n",
        "      <th>TESEX</th>\n",
        "      <th>PEEDUCA</th>\n",
        "      <th>PTDTRACE</th>\n",
        "      <th>PEHSPNON</th>\n",
        "      <th>GTMETSTA</th>\n",
        "      <th>TELFS</th>\n",
        "      <th>...</th>\n",
        "      <th>t181501</th>\n",
        "      <th>t181599</th>\n",
        "      <th>t181601</th>\n",
        "      <th>t181801</th>\n",
        "      <th>t189999</th>\n",
        "      <th>t500101</th>\n",
        "      <th>t500103</th>\n",
        "      <th>t500105</th>\n",
        "      <th>t500106</th>\n",
        "      <th>t500107</th>\n",
        "    </tr>\n",
        "  </thead>\n",
        "  <tbody>\n",
        "    <tr>\n",
        "      <th>0</th>\n",
        "      <td> 20130101130004</td>\n",
        "      <td> 11899905.662034</td>\n",
        "      <td> 12</td>\n",
        "      <td> 22</td>\n",
        "      <td> 2</td>\n",
        "      <td> 40</td>\n",
        "      <td> 8</td>\n",
        "      <td> 2</td>\n",
        "      <td> 1</td>\n",
        "      <td> 5</td>\n",
        "      <td>...</td>\n",
        "      <td>  0</td>\n",
        "      <td> 0</td>\n",
        "      <td> 0</td>\n",
        "      <td> 0</td>\n",
        "      <td> 0</td>\n",
        "      <td> 0</td>\n",
        "      <td> 0</td>\n",
        "      <td> 0</td>\n",
        "      <td> 0</td>\n",
        "      <td> 0</td>\n",
        "    </tr>\n",
        "    <tr>\n",
        "      <th>1</th>\n",
        "      <td> 20130101130112</td>\n",
        "      <td>  4447638.009513</td>\n",
        "      <td>  1</td>\n",
        "      <td> 39</td>\n",
        "      <td> 1</td>\n",
        "      <td> 43</td>\n",
        "      <td> 1</td>\n",
        "      <td> 2</td>\n",
        "      <td> 1</td>\n",
        "      <td> 1</td>\n",
        "      <td>...</td>\n",
        "      <td>  0</td>\n",
        "      <td> 0</td>\n",
        "      <td> 0</td>\n",
        "      <td> 0</td>\n",
        "      <td> 0</td>\n",
        "      <td> 0</td>\n",
        "      <td> 0</td>\n",
        "      <td> 0</td>\n",
        "      <td> 0</td>\n",
        "      <td> 0</td>\n",
        "    </tr>\n",
        "    <tr>\n",
        "      <th>2</th>\n",
        "      <td> 20130101130123</td>\n",
        "      <td> 10377056.507734</td>\n",
        "      <td> -1</td>\n",
        "      <td> 47</td>\n",
        "      <td> 2</td>\n",
        "      <td> 40</td>\n",
        "      <td> 1</td>\n",
        "      <td> 2</td>\n",
        "      <td> 1</td>\n",
        "      <td> 4</td>\n",
        "      <td>...</td>\n",
        "      <td> 25</td>\n",
        "      <td> 0</td>\n",
        "      <td> 0</td>\n",
        "      <td> 0</td>\n",
        "      <td> 0</td>\n",
        "      <td> 0</td>\n",
        "      <td> 0</td>\n",
        "      <td> 0</td>\n",
        "      <td> 0</td>\n",
        "      <td> 0</td>\n",
        "    </tr>\n",
        "    <tr>\n",
        "      <th>3</th>\n",
        "      <td> 20130101130611</td>\n",
        "      <td>  7731257.992805</td>\n",
        "      <td> -1</td>\n",
        "      <td> 50</td>\n",
        "      <td> 2</td>\n",
        "      <td> 40</td>\n",
        "      <td> 1</td>\n",
        "      <td> 1</td>\n",
        "      <td> 1</td>\n",
        "      <td> 1</td>\n",
        "      <td>...</td>\n",
        "      <td>  0</td>\n",
        "      <td> 0</td>\n",
        "      <td> 0</td>\n",
        "      <td> 0</td>\n",
        "      <td> 0</td>\n",
        "      <td> 0</td>\n",
        "      <td> 0</td>\n",
        "      <td> 0</td>\n",
        "      <td> 0</td>\n",
        "      <td> 0</td>\n",
        "    </tr>\n",
        "    <tr>\n",
        "      <th>4</th>\n",
        "      <td> 20130101130616</td>\n",
        "      <td>  4725269.227067</td>\n",
        "      <td> -1</td>\n",
        "      <td> 45</td>\n",
        "      <td> 2</td>\n",
        "      <td> 40</td>\n",
        "      <td> 2</td>\n",
        "      <td> 2</td>\n",
        "      <td> 1</td>\n",
        "      <td> 1</td>\n",
        "      <td>...</td>\n",
        "      <td>  0</td>\n",
        "      <td> 0</td>\n",
        "      <td> 0</td>\n",
        "      <td> 0</td>\n",
        "      <td> 0</td>\n",
        "      <td> 0</td>\n",
        "      <td> 0</td>\n",
        "      <td> 0</td>\n",
        "      <td> 0</td>\n",
        "      <td> 0</td>\n",
        "    </tr>\n",
        "  </tbody>\n",
        "</table>\n",
        "<p>5 rows \u00d7 413 columns</p>\n",
        "</div>"
       ],
       "metadata": {},
       "output_type": "pyout",
       "prompt_number": 6,
       "text": [
        "         tucaseid        TUFINLWGT  TRYHHCHILD  TEAGE  TESEX  PEEDUCA  \\\n",
        "0  20130101130004  11899905.662034          12     22      2       40   \n",
        "1  20130101130112   4447638.009513           1     39      1       43   \n",
        "2  20130101130123  10377056.507734          -1     47      2       40   \n",
        "3  20130101130611   7731257.992805          -1     50      2       40   \n",
        "4  20130101130616   4725269.227067          -1     45      2       40   \n",
        "\n",
        "   PTDTRACE  PEHSPNON  GTMETSTA  TELFS   ...     t181501  t181599  t181601  \\\n",
        "0         8         2         1      5   ...           0        0        0   \n",
        "1         1         2         1      1   ...           0        0        0   \n",
        "2         1         2         1      4   ...          25        0        0   \n",
        "3         1         1         1      1   ...           0        0        0   \n",
        "4         2         2         1      1   ...           0        0        0   \n",
        "\n",
        "   t181801  t189999  t500101  t500103  t500105  t500106  t500107  \n",
        "0        0        0        0        0        0        0        0  \n",
        "1        0        0        0        0        0        0        0  \n",
        "2        0        0        0        0        0        0        0  \n",
        "3        0        0        0        0        0        0        0  \n",
        "4        0        0        0        0        0        0        0  \n",
        "\n",
        "[5 rows x 413 columns]"
       ]
      }
     ],
     "prompt_number": 6
    },
    {
     "cell_type": "code",
     "collapsed": false,
     "input": [
      "adults_crit = (summary.TEAGE >= 18)\n",
      "no_children_crit = (summary.TRCHILDNUM == 0)\n",
      "adults_with_children = adults_crit & ~ no_children_crit\n",
      "adults_with_no_children = adults_crit & no_children_crit\n",
      "times_of_interest_codes = {\"Travel\": \"18\",\n",
      "                           \"Work Travel\": \"1805\",\n",
      "                           \"Eating Travel\": \"1811\",\n",
      "                           \"Religious Activity\": \"14\",\n",
      "                           \"Eating and Drinking\": \"11\",\n",
      "                           \"Education\": \"06\",\n",
      "                           \"Work\": \"05\",\n",
      "                           \"Working\": \"0501\",\n",
      "                           \"Housework\": \"0201\",\n",
      "                           \"Laundry\": \"020102\",\n",
      "                           \"Billiards\": \"130105\",\n",
      "                           \"Food Prep and Cleanup\": \"0202\",\n",
      "                           \"Sleep\": \"0101\",\n",
      "                           \"Grooming\": \"0102\"}\n",
      "times_of_interest = list(times_of_interest_codes.keys())\n",
      "group_divisions_of_interest = {\"Sex\": \"TESEX\",\n",
      "                               \"Age\": \"TEAGE\",\n",
      "                               \"Adults With \\ Without Children\": [adults_with_children, adults_with_no_children]}\n",
      "groups_of_interest = list(group_divisions_of_interest.keys())\n",
      "divisions_of_interest = {\"adults_crit\":  (summary.TEAGE >= 18),\n",
      "                         \"no_children_crit\": (summary.TRCHILDNUM == 0)}\n",
      "plot_bars = {\"Sex\"}\n",
      "logical_combos = {\"Adults With \\ Without Children\"}\n",
      "group_labels = {\"Sex\": [\"Male\", \"Female\"], \n",
      "                \"Adults With \\ Without Children\": [\"Adults with children\", \"Adults without children.\"]}"
     ],
     "language": "python",
     "metadata": {},
     "outputs": [],
     "prompt_number": 61
    },
    {
     "cell_type": "code",
     "collapsed": false,
     "input": [
      "random.choice(times_of_interest)"
     ],
     "language": "python",
     "metadata": {},
     "outputs": [
      {
       "metadata": {},
       "output_type": "pyout",
       "prompt_number": 50,
       "text": [
        "'Eating Travel'"
       ]
      }
     ],
     "prompt_number": 50
    },
    {
     "cell_type": "code",
     "collapsed": false,
     "input": [
      "random.choice(groups_of_interest)"
     ],
     "language": "python",
     "metadata": {},
     "outputs": [
      {
       "metadata": {},
       "output_type": "pyout",
       "prompt_number": 51,
       "text": [
        "'Sex'"
       ]
      }
     ],
     "prompt_number": 51
    },
    {
     "cell_type": "code",
     "collapsed": false,
     "input": [
      "data_subset = summary[[\"TUFINLWGT\",\"TESEX\", \"t130105\"]]"
     ],
     "language": "python",
     "metadata": {},
     "outputs": [],
     "prompt_number": 32
    },
    {
     "cell_type": "code",
     "collapsed": false,
     "input": [
      "data_subset[\"billiards\"] = data_subset.t130105 * data_subset.TUFINLWGT"
     ],
     "language": "python",
     "metadata": {},
     "outputs": [],
     "prompt_number": 33
    },
    {
     "cell_type": "code",
     "collapsed": false,
     "input": [
      "male_female = data_subset.groupby([\"TESEX\"])"
     ],
     "language": "python",
     "metadata": {},
     "outputs": [],
     "prompt_number": 34
    },
    {
     "cell_type": "code",
     "collapsed": false,
     "input": [
      "male_female_billiards = data_subset['billiards'].groupby(data_subset['TESEX'])"
     ],
     "language": "python",
     "metadata": {},
     "outputs": [],
     "prompt_number": 35
    },
    {
     "cell_type": "code",
     "collapsed": false,
     "input": [
      "male_female_weights = data_subset['TUFINLWGT'].groupby(data_subset['TESEX'])"
     ],
     "language": "python",
     "metadata": {},
     "outputs": [],
     "prompt_number": 36
    },
    {
     "cell_type": "code",
     "collapsed": false,
     "input": [
      "male_female_diff = male_female_billiards.sum() / male_female_weights.sum()"
     ],
     "language": "python",
     "metadata": {},
     "outputs": [],
     "prompt_number": 37
    },
    {
     "cell_type": "code",
     "collapsed": false,
     "input": [
      "male_female_diff.plot(kind='bar', figsize=(15, 6))"
     ],
     "language": "python",
     "metadata": {},
     "outputs": [
      {
       "metadata": {},
       "output_type": "pyout",
       "prompt_number": 38,
       "text": [
        "<matplotlib.axes._subplots.AxesSubplot at 0x113c92e10>"
       ]
      },
      {
       "metadata": {},
       "output_type": "display_data",
       "png": "[encoded data removed]",
       "text": [
        "<matplotlib.figure.Figure at 0x113e1b668>"
       ]
      }
     ],
     "prompt_number": 38
    },
    {
     "cell_type": "code",
     "collapsed": false,
     "input": [
      "def activity_columns(data, activity_code):\n",
      "    \"\"\"For the activity code given, return all columns that fall under that activity.\"\"\"\n",
      "    col_prefix = \"t{}\".format(activity_code)\n",
      "    return [column for column in data.columns if re.match(col_prefix, column)]\n",
      "\n",
      "def plot_diffs(data, group_key, activity_key):\n",
      "    if group in logical_combos:\n",
      "        groups = group_divisions_of_interest[group_key]\n",
      "    else:\n",
      "        group = group_divisions_of_interest[group_key]\n",
      "    time = times_of_interest_codes[activity_key]\n",
      "    time_columns = activity_columns(data, time)\n",
      "    data_subset_list = [\"TUFINLWGT\", group] + time_columns\n",
      "    data[activity_key] = data[time_columns].sum(axis=1) * data.TUFINLWGT\n",
      "    grouped_data = data.groupby(group)\n",
      "    grouped_data_diff = grouped_data[activity_key].sum() / grouped_data['TUFINLWGT'].sum()\n",
      "    if group_key in plot_bars:\n",
      "        grouped_data_diff.plot(figsize=(15, 6), kind='bar')\n",
      "        plt.xticks(range(len(group_labels[group_key])), group_labels[group_key])\n",
      "    else:\n",
      "        grouped_data_diff.plot(figsize=(15, 6))\n",
      "    plt.title(\"Time spent on \" + activity_key + \" by \" + group_key)\n",
      "    plt.ylabel(activity_key + \" (minutes)\")\n",
      "    plt.xlabel(group_key)\n",
      "    plt.show()"
     ],
     "language": "python",
     "metadata": {},
     "outputs": [],
     "prompt_number": 52
    },
    {
     "cell_type": "code",
     "collapsed": false,
     "input": [
      "def generate_random_plot():\n",
      "    time = random.choice(times_of_interest)\n",
      "    group = random.choice(groups_of_interest)\n",
      "    plot_diffs(summary, group, time)"
     ],
     "language": "python",
     "metadata": {},
     "outputs": [],
     "prompt_number": 53
    },
    {
     "cell_type": "code",
     "collapsed": false,
     "input": [
      "generate_random_plot()"
     ],
     "language": "python",
     "metadata": {},
     "outputs": [
      {
       "metadata": {},
       "output_type": "display_data",
       "png": "[encoded data removed]",
       "text": [
        "<matplotlib.figure.Figure at 0x118d9b860>"
       ]
      }
     ],
     "prompt_number": 60
    },
    {
     "cell_type": "code",
     "collapsed": false,
     "input": [
      "plot_diffs(summary, \"Adults With Children\" , \"Sleep\")"
     ],
     "language": "python",
     "metadata": {},
     "outputs": [
      {
       "metadata": {},
       "output_type": "display_data",
       "png": "[encoded data removed]",
       "text": [
        "<matplotlib.figure.Figure at 0x113bc83c8>"
       ]
      }
     ],
     "prompt_number": 25
    },
    {
     "cell_type": "code",
     "collapsed": false,
     "input": [],
     "language": "python",
     "metadata": {},
     "outputs": []
    },
    {
     "cell_type": "code",
     "collapsed": false,
     "input": [],
     "language": "python",
     "metadata": {},
     "outputs": []
    }
   ],
   "metadata": {}
  }
 ]
}